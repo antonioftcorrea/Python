{
  "nbformat": 4,
  "nbformat_minor": 0,
  "metadata": {
    "colab": {
      "provenance": []
    },
    "kernelspec": {
      "name": "python3",
      "display_name": "Python 3"
    },
    "language_info": {
      "name": "python"
    }
  },
  "cells": [
    {
      "cell_type": "markdown",
      "source": [
        "# **Definição do problema**\n",
        "Conseguir monitorar muitas ações Da bolsa de valores de uma é vez Cotação das ações é muito dinâmica tem muita variação durante o dia conseguir monitorar um portfólio enquanto trabalha é bem difícil por isso decidi criar um código que monitore as ações."
      ],
      "metadata": {
        "id": "K6ErhCPAN8u1"
      }
    },
    {
      "cell_type": "code",
      "source": [],
      "metadata": {
        "id": "vTHCGDILPOHv"
      },
      "execution_count": null,
      "outputs": []
    },
    {
      "cell_type": "code",
      "execution_count": null,
      "metadata": {
        "id": "H4XJF1EEN59Y"
      },
      "outputs": [],
      "source": []
    }
  ]
}