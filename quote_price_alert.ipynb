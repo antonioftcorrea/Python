{
 "cells": [
  {
   "cell_type": "markdown",
   "metadata": {
    "id": "K6ErhCPAN8u1"
   },
   "source": [
    "# **Definição do problema**\n",
    "A bolsa de valores é muito dinâmica, o preço das ações muda a cada segundo e é quase impossível acompanhar. Por isso pensei em uma solução para auxiliar os investidores a monitorar sua carteira no intraday."
   ]
  },
  {
   "cell_type": "markdown",
   "metadata": {},
   "source": [
    "# **Minha proposta**\n",
    "Um código que monitora os preços das ações para uma possível venda. \n",
    "O aplicativo notifica com um popup na tela do Windows, quando uma ação cumpre dois requisitos:\n",
    "\n",
    "1.   A ação precisa ter uma intenção de venda, ou seja, o dono da carteira quer vende la;\n",
    "2.   Para a venda acontecer não pode haver prejuízo, o preço atual da ação precisa ser maior do que o preço médio;\n",
    "\n",
    "O código ainda é manual, então é necessário roda lo sempre para que funcione."
   ]
  },
  {
   "cell_type": "markdown",
   "metadata": {
    "id": "kJZG5gJHqgIA"
   },
   "source": [
    "# **Arquivo excel com sua carteira de ações**\n",
    "É necessário criar um arquivo excel com as ações do seu portfólio, contendo três campos:\n",
    "*   ticker: código da ação na bolsa;\n",
    "*   pm: preço médio de compra da ação;\n",
    "*   plano: define a intenção em vender ou manter uma ação - Manter ou Vender;"
   ]
  },
  {
   "cell_type": "markdown",
   "metadata": {
    "id": "4zSzOB9pvpgh"
   },
   "source": [
    "# **Importando bibliotecas e subindo o arquivo**"
   ]
  },
  {
   "cell_type": "code",
   "execution_count": 25,
   "metadata": {
    "id": "h3CcCKcAjIW0",
    "outputId": "be5d3eed-cd5d-43ed-c131-40e7a4377306"
   },
   "outputs": [
    {
     "data": {
      "text/html": [
       "<div>\n",
       "<style scoped>\n",
       "    .dataframe tbody tr th:only-of-type {\n",
       "        vertical-align: middle;\n",
       "    }\n",
       "\n",
       "    .dataframe tbody tr th {\n",
       "        vertical-align: top;\n",
       "    }\n",
       "\n",
       "    .dataframe thead th {\n",
       "        text-align: right;\n",
       "    }\n",
       "</style>\n",
       "<table border=\"1\" class=\"dataframe\">\n",
       "  <thead>\n",
       "    <tr style=\"text-align: right;\">\n",
       "      <th></th>\n",
       "      <th>ticker</th>\n",
       "      <th>pm</th>\n",
       "      <th>plano</th>\n",
       "    </tr>\n",
       "  </thead>\n",
       "  <tbody>\n",
       "    <tr>\n",
       "      <th>0</th>\n",
       "      <td>VALE3.SA</td>\n",
       "      <td>66.254571</td>\n",
       "      <td>Manter</td>\n",
       "    </tr>\n",
       "    <tr>\n",
       "      <th>1</th>\n",
       "      <td>PETR4.SA</td>\n",
       "      <td>27.940846</td>\n",
       "      <td>Manter</td>\n",
       "    </tr>\n",
       "    <tr>\n",
       "      <th>2</th>\n",
       "      <td>OIBR3.SA</td>\n",
       "      <td>3.250000</td>\n",
       "      <td>Vender</td>\n",
       "    </tr>\n",
       "  </tbody>\n",
       "</table>\n",
       "</div>"
      ],
      "text/plain": [
       "     ticker         pm   plano\n",
       "0  VALE3.SA  66.254571  Manter\n",
       "1  PETR4.SA  27.940846  Manter\n",
       "2  OIBR3.SA   3.250000  Vender"
      ]
     },
     "execution_count": 25,
     "metadata": {},
     "output_type": "execute_result"
    }
   ],
   "source": [
    "#Usado para subir o arquivo\n",
    "import pandas as pd\n",
    "\n",
    "#Trabalhar com datas\n",
    "from datetime import datetime\n",
    "\n",
    "#Importar as cotações das ações com a biblioteca do Yahoo\n",
    "import yfinance as yf\n",
    "\n",
    "#Gera notificação através no windows\n",
    "from winotify import Notification\n",
    "import time\n",
    "\n",
    "#Carregar o arquivo\n",
    "wallet = pd.read_excel(\"C:/Users/Antonio/OneDrive/Área de Trabalho/python/bases/lista_acao.xlsx\", sheet_name='base', header=0)\n",
    "wallet.head(3)"
   ]
  },
  {
   "cell_type": "code",
   "execution_count": 26,
   "metadata": {
    "id": "KKFMj9x5jIW6"
   },
   "outputs": [],
   "source": [
    "#Ticker column transformed in a list\n",
    "ticker_list = wallet['ticker'].to_list()"
   ]
  },
  {
   "cell_type": "code",
   "execution_count": 27,
   "metadata": {
    "id": "JVjtSn36jIW8",
    "outputId": "c4f5a74a-1781-4621-cd6e-b155db179ca2"
   },
   "outputs": [
    {
     "name": "stderr",
     "output_type": "stream",
     "text": [
      "C:\\Users\\Antonio\\AppData\\Local\\Temp\\ipykernel_10248\\1195271102.py:3: FutureWarning: YF.download() has changed argument auto_adjust default to True\n",
      "  price_quote = yf.download(ticker_list, start = start_data, rounding = True)\n",
      "[*********************100%***********************]  6 of 6 completed\n"
     ]
    },
    {
     "data": {
      "text/html": [
       "<div>\n",
       "<style scoped>\n",
       "    .dataframe tbody tr th:only-of-type {\n",
       "        vertical-align: middle;\n",
       "    }\n",
       "\n",
       "    .dataframe tbody tr th {\n",
       "        vertical-align: top;\n",
       "    }\n",
       "\n",
       "    .dataframe thead tr th {\n",
       "        text-align: left;\n",
       "    }\n",
       "\n",
       "    .dataframe thead tr:last-of-type th {\n",
       "        text-align: right;\n",
       "    }\n",
       "</style>\n",
       "<table border=\"1\" class=\"dataframe\">\n",
       "  <thead>\n",
       "    <tr>\n",
       "      <th>Price</th>\n",
       "      <th colspan=\"6\" halign=\"left\">Close</th>\n",
       "      <th colspan=\"4\" halign=\"left\">High</th>\n",
       "      <th>...</th>\n",
       "      <th colspan=\"4\" halign=\"left\">Open</th>\n",
       "      <th colspan=\"6\" halign=\"left\">Volume</th>\n",
       "    </tr>\n",
       "    <tr>\n",
       "      <th>Ticker</th>\n",
       "      <th>COGN3.SA</th>\n",
       "      <th>ELET6.SA</th>\n",
       "      <th>MRVE3.SA</th>\n",
       "      <th>OIBR3.SA</th>\n",
       "      <th>PETR4.SA</th>\n",
       "      <th>VALE3.SA</th>\n",
       "      <th>COGN3.SA</th>\n",
       "      <th>ELET6.SA</th>\n",
       "      <th>MRVE3.SA</th>\n",
       "      <th>OIBR3.SA</th>\n",
       "      <th>...</th>\n",
       "      <th>MRVE3.SA</th>\n",
       "      <th>OIBR3.SA</th>\n",
       "      <th>PETR4.SA</th>\n",
       "      <th>VALE3.SA</th>\n",
       "      <th>COGN3.SA</th>\n",
       "      <th>ELET6.SA</th>\n",
       "      <th>MRVE3.SA</th>\n",
       "      <th>OIBR3.SA</th>\n",
       "      <th>PETR4.SA</th>\n",
       "      <th>VALE3.SA</th>\n",
       "    </tr>\n",
       "    <tr>\n",
       "      <th>Date</th>\n",
       "      <th></th>\n",
       "      <th></th>\n",
       "      <th></th>\n",
       "      <th></th>\n",
       "      <th></th>\n",
       "      <th></th>\n",
       "      <th></th>\n",
       "      <th></th>\n",
       "      <th></th>\n",
       "      <th></th>\n",
       "      <th></th>\n",
       "      <th></th>\n",
       "      <th></th>\n",
       "      <th></th>\n",
       "      <th></th>\n",
       "      <th></th>\n",
       "      <th></th>\n",
       "      <th></th>\n",
       "      <th></th>\n",
       "      <th></th>\n",
       "      <th></th>\n",
       "    </tr>\n",
       "  </thead>\n",
       "  <tbody>\n",
       "    <tr>\n",
       "      <th>2025-10-20</th>\n",
       "      <td>3.29</td>\n",
       "      <td>58.11</td>\n",
       "      <td>6.59</td>\n",
       "      <td>0.39</td>\n",
       "      <td>29.76</td>\n",
       "      <td>61.08</td>\n",
       "      <td>3.33</td>\n",
       "      <td>58.55</td>\n",
       "      <td>6.7</td>\n",
       "      <td>0.39</td>\n",
       "      <td>...</td>\n",
       "      <td>6.49</td>\n",
       "      <td>0.38</td>\n",
       "      <td>29.7</td>\n",
       "      <td>60.14</td>\n",
       "      <td>28171600</td>\n",
       "      <td>709200</td>\n",
       "      <td>8555900</td>\n",
       "      <td>1258500</td>\n",
       "      <td>29175100</td>\n",
       "      <td>15517400</td>\n",
       "    </tr>\n",
       "  </tbody>\n",
       "</table>\n",
       "<p>1 rows × 30 columns</p>\n",
       "</div>"
      ],
      "text/plain": [
       "Price         Close                                                  High  \\\n",
       "Ticker     COGN3.SA ELET6.SA MRVE3.SA OIBR3.SA PETR4.SA VALE3.SA COGN3.SA   \n",
       "Date                                                                        \n",
       "2025-10-20     3.29    58.11     6.59     0.39    29.76    61.08     3.33   \n",
       "\n",
       "Price                                  ...     Open                    \\\n",
       "Ticker     ELET6.SA MRVE3.SA OIBR3.SA  ... MRVE3.SA OIBR3.SA PETR4.SA   \n",
       "Date                                   ...                              \n",
       "2025-10-20    58.55      6.7     0.39  ...     6.49     0.38     29.7   \n",
       "\n",
       "Price                  Volume                                                 \n",
       "Ticker     VALE3.SA  COGN3.SA ELET6.SA MRVE3.SA OIBR3.SA  PETR4.SA  VALE3.SA  \n",
       "Date                                                                          \n",
       "2025-10-20    60.14  28171600   709200  8555900  1258500  29175100  15517400  \n",
       "\n",
       "[1 rows x 30 columns]"
      ]
     },
     "execution_count": 27,
     "metadata": {},
     "output_type": "execute_result"
    }
   ],
   "source": [
    "#Extract from yahoo finance, the stock prices that are in your wallet\n",
    "start_data = datetime.now().strftime('%Y-%m-%d')\n",
    "price_quote = yf.download(ticker_list, start = start_data, rounding = True)\n",
    "price_quote"
   ]
  },
  {
   "cell_type": "code",
   "execution_count": 28,
   "metadata": {
    "id": "Q4T1p-PvjIW-"
   },
   "outputs": [],
   "source": [
    "#Adjustment of the stock price table\n",
    "price_quote = price_quote['Close']\n",
    "price_quote = price_quote.reset_index()\n",
    "price_quote.drop('Date', axis=1, inplace=True)\n",
    "price_quote = price_quote.T\n",
    "price_quote = price_quote.reset_index()\n",
    "price_quote.columns = ['ticker','preco']"
   ]
  },
  {
   "cell_type": "code",
   "execution_count": 29,
   "metadata": {
    "id": "azFitmAF3gdG"
   },
   "outputs": [],
   "source": [
    "#Merging the wallet table with the stock prices table\n",
    "price_quote = price_quote.merge(wallet, how = 'inner', on = 'ticker')"
   ]
  },
  {
   "cell_type": "code",
   "execution_count": 30,
   "metadata": {
    "id": "AAapATkHjIW_"
   },
   "outputs": [],
   "source": [
    "#Creating a new column with a condition\n",
    "status = []\n",
    "for index, row in price_quote.iterrows():\n",
    "    if row['preco'] > row['pm']:\n",
    "      status.append(\"Vender\")\n",
    "    else:\n",
    "      status.append(\"Manter\")"
   ]
  },
  {
   "cell_type": "code",
   "execution_count": 31,
   "metadata": {
    "id": "5AOsHCS8jIXB",
    "outputId": "2d1a49b2-9277-4bfc-c1fb-dfe2aa0ac768"
   },
   "outputs": [
    {
     "data": {
      "text/html": [
       "<div>\n",
       "<style scoped>\n",
       "    .dataframe tbody tr th:only-of-type {\n",
       "        vertical-align: middle;\n",
       "    }\n",
       "\n",
       "    .dataframe tbody tr th {\n",
       "        vertical-align: top;\n",
       "    }\n",
       "\n",
       "    .dataframe thead th {\n",
       "        text-align: right;\n",
       "    }\n",
       "</style>\n",
       "<table border=\"1\" class=\"dataframe\">\n",
       "  <thead>\n",
       "    <tr style=\"text-align: right;\">\n",
       "      <th></th>\n",
       "      <th>ticker</th>\n",
       "      <th>preco</th>\n",
       "      <th>pm</th>\n",
       "      <th>plano</th>\n",
       "      <th>status</th>\n",
       "    </tr>\n",
       "  </thead>\n",
       "  <tbody>\n",
       "    <tr>\n",
       "      <th>0</th>\n",
       "      <td>COGN3.SA</td>\n",
       "      <td>3.29</td>\n",
       "      <td>2.700000</td>\n",
       "      <td>Vender</td>\n",
       "      <td>Vender</td>\n",
       "    </tr>\n",
       "    <tr>\n",
       "      <th>1</th>\n",
       "      <td>ELET6.SA</td>\n",
       "      <td>58.11</td>\n",
       "      <td>38.692000</td>\n",
       "      <td>Manter</td>\n",
       "      <td>Vender</td>\n",
       "    </tr>\n",
       "    <tr>\n",
       "      <th>2</th>\n",
       "      <td>MRVE3.SA</td>\n",
       "      <td>6.59</td>\n",
       "      <td>5.130000</td>\n",
       "      <td>Vender</td>\n",
       "      <td>Vender</td>\n",
       "    </tr>\n",
       "    <tr>\n",
       "      <th>3</th>\n",
       "      <td>OIBR3.SA</td>\n",
       "      <td>0.39</td>\n",
       "      <td>3.250000</td>\n",
       "      <td>Vender</td>\n",
       "      <td>Manter</td>\n",
       "    </tr>\n",
       "    <tr>\n",
       "      <th>4</th>\n",
       "      <td>PETR4.SA</td>\n",
       "      <td>29.76</td>\n",
       "      <td>27.940846</td>\n",
       "      <td>Manter</td>\n",
       "      <td>Vender</td>\n",
       "    </tr>\n",
       "    <tr>\n",
       "      <th>5</th>\n",
       "      <td>VALE3.SA</td>\n",
       "      <td>61.08</td>\n",
       "      <td>66.254571</td>\n",
       "      <td>Manter</td>\n",
       "      <td>Manter</td>\n",
       "    </tr>\n",
       "  </tbody>\n",
       "</table>\n",
       "</div>"
      ],
      "text/plain": [
       "     ticker  preco         pm   plano  status\n",
       "0  COGN3.SA   3.29   2.700000  Vender  Vender\n",
       "1  ELET6.SA  58.11  38.692000  Manter  Vender\n",
       "2  MRVE3.SA   6.59   5.130000  Vender  Vender\n",
       "3  OIBR3.SA   0.39   3.250000  Vender  Manter\n",
       "4  PETR4.SA  29.76  27.940846  Manter  Vender\n",
       "5  VALE3.SA  61.08  66.254571  Manter  Manter"
      ]
     },
     "execution_count": 31,
     "metadata": {},
     "output_type": "execute_result"
    }
   ],
   "source": [
    "#Just checking the new column\n",
    "price_quote['status'] = status\n",
    "price_quote.head(6)"
   ]
  },
  {
   "cell_type": "markdown",
   "metadata": {
    "id": "1SrUGDQ9-DUY"
   },
   "source": [
    "# **Notificação no Windows**\n",
    "Verificação das regras e notificação no windows"
   ]
  },
  {
   "cell_type": "code",
   "execution_count": 36,
   "metadata": {
    "id": "EH_DcV1cjIXE"
   },
   "outputs": [],
   "source": [
    "#Price alert is sent through windows\n",
    "linha = 0\n",
    "while (linha < 1):\n",
    " for index, row in price_quote.iterrows():\n",
    "   if((row['plano'] == 'Vender') and (row['status'] == 'Vender')):\n",
    "     alerta = Notification(app_id = \"Alerta de Ações\",\n",
    "                           title = \"Oportunidade de Venda\",\n",
    "                           msg = \"O preço atual da \" + row['ticker'] +\" é \" + str(round(row['preco'],2)),\n",
    "                           duration = \"short\",\n",
    "                           launch = \"https://br.financas.yahoo.com/portfolio/p_0/view/v2\")\n",
    "     alerta.show()\n",
    "     time.sleep(5)\n",
    "     linha = linha + 1"
   ]
  },
  {
   "cell_type": "markdown",
   "metadata": {},
   "source": [
    "# **Próximos passos**\n",
    "Tenho a intenção de melhorar o código continuamente:\n",
    "1. Fazer com que o código rode de tempos em tempos ou com um trigger;\n",
    "2. Notificação por email;\n",
    "\n",
    "Caso tenha alguma sugestão, envie para mim!!!\n",
    "Espero que tenham curtido. Abs"
   ]
  }
 ],
 "metadata": {
  "colab": {
   "provenance": []
  },
  "kernelspec": {
   "display_name": "Python 3",
   "language": "python",
   "name": "python3"
  },
  "language_info": {
   "codemirror_mode": {
    "name": "ipython",
    "version": 3
   },
   "file_extension": ".py",
   "mimetype": "text/x-python",
   "name": "python",
   "nbconvert_exporter": "python",
   "pygments_lexer": "ipython3",
   "version": "3.12.10"
  },
  "orig_nbformat": 4
 },
 "nbformat": 4,
 "nbformat_minor": 0
}
